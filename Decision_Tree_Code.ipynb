{
 "cells": [
  {
   "cell_type": "code",
   "execution_count": 1,
   "id": "f2d7b271",
   "metadata": {},
   "outputs": [],
   "source": [
    "import numpy as np\n",
    "import math\n",
    "import pandas as pd\n",
    "from sklearn import datasets"
   ]
  },
  {
   "cell_type": "code",
   "execution_count": 2,
   "id": "d38ef865",
   "metadata": {},
   "outputs": [],
   "source": [
    "iris = datasets.load_iris()  #importing iris dataset"
   ]
  },
  {
   "cell_type": "code",
   "execution_count": 3,
   "id": "e1eb804b",
   "metadata": {},
   "outputs": [],
   "source": [
    "feature = pd.DataFrame(iris.data) #converting dataset into pandas DataFrame"
   ]
  },
  {
   "cell_type": "code",
   "execution_count": 4,
   "id": "db1baa0d",
   "metadata": {},
   "outputs": [],
   "source": [
    "feature.columns = iris.feature_names #Definig column names of dataset"
   ]
  },
  {
   "cell_type": "code",
   "execution_count": 5,
   "id": "062ec5f0",
   "metadata": {},
   "outputs": [],
   "source": [
    "feature['target'] = iris.target #marging target into features"
   ]
  },
  {
   "cell_type": "code",
   "execution_count": 6,
   "id": "642bf0c6",
   "metadata": {},
   "outputs": [
    {
     "data": {
      "text/html": [
       "<div>\n",
       "<style scoped>\n",
       "    .dataframe tbody tr th:only-of-type {\n",
       "        vertical-align: middle;\n",
       "    }\n",
       "\n",
       "    .dataframe tbody tr th {\n",
       "        vertical-align: top;\n",
       "    }\n",
       "\n",
       "    .dataframe thead th {\n",
       "        text-align: right;\n",
       "    }\n",
       "</style>\n",
       "<table border=\"1\" class=\"dataframe\">\n",
       "  <thead>\n",
       "    <tr style=\"text-align: right;\">\n",
       "      <th></th>\n",
       "      <th>sepal length (cm)</th>\n",
       "      <th>sepal width (cm)</th>\n",
       "      <th>petal length (cm)</th>\n",
       "      <th>petal width (cm)</th>\n",
       "      <th>target</th>\n",
       "    </tr>\n",
       "  </thead>\n",
       "  <tbody>\n",
       "    <tr>\n",
       "      <th>0</th>\n",
       "      <td>5.1</td>\n",
       "      <td>3.5</td>\n",
       "      <td>1.4</td>\n",
       "      <td>0.2</td>\n",
       "      <td>0</td>\n",
       "    </tr>\n",
       "    <tr>\n",
       "      <th>1</th>\n",
       "      <td>4.9</td>\n",
       "      <td>3.0</td>\n",
       "      <td>1.4</td>\n",
       "      <td>0.2</td>\n",
       "      <td>0</td>\n",
       "    </tr>\n",
       "    <tr>\n",
       "      <th>2</th>\n",
       "      <td>4.7</td>\n",
       "      <td>3.2</td>\n",
       "      <td>1.3</td>\n",
       "      <td>0.2</td>\n",
       "      <td>0</td>\n",
       "    </tr>\n",
       "    <tr>\n",
       "      <th>3</th>\n",
       "      <td>4.6</td>\n",
       "      <td>3.1</td>\n",
       "      <td>1.5</td>\n",
       "      <td>0.2</td>\n",
       "      <td>0</td>\n",
       "    </tr>\n",
       "    <tr>\n",
       "      <th>4</th>\n",
       "      <td>5.0</td>\n",
       "      <td>3.6</td>\n",
       "      <td>1.4</td>\n",
       "      <td>0.2</td>\n",
       "      <td>0</td>\n",
       "    </tr>\n",
       "  </tbody>\n",
       "</table>\n",
       "</div>"
      ],
      "text/plain": [
       "   sepal length (cm)  sepal width (cm)  petal length (cm)  petal width (cm)  \\\n",
       "0                5.1               3.5                1.4               0.2   \n",
       "1                4.9               3.0                1.4               0.2   \n",
       "2                4.7               3.2                1.3               0.2   \n",
       "3                4.6               3.1                1.5               0.2   \n",
       "4                5.0               3.6                1.4               0.2   \n",
       "\n",
       "   target  \n",
       "0       0  \n",
       "1       0  \n",
       "2       0  \n",
       "3       0  \n",
       "4       0  "
      ]
     },
     "execution_count": 6,
     "metadata": {},
     "output_type": "execute_result"
    }
   ],
   "source": [
    "feature.head()"
   ]
  },
  {
   "cell_type": "code",
   "execution_count": 7,
   "id": "a79ba703",
   "metadata": {},
   "outputs": [],
   "source": [
    "# This function will calculate the Entropy which would be used to find the information gain\n",
    "def entropy(arr):\n",
    "    add = sum(arr)\n",
    "    temp = 0\n",
    "    for i in arr:\n",
    "        if i >0:\n",
    "            temp -= (i/add)*(math.log(i/add,2))\n",
    "    return temp"
   ]
  },
  {
   "cell_type": "code",
   "execution_count": 8,
   "id": "98f1424f",
   "metadata": {},
   "outputs": [],
   "source": [
    "# This function will calculate the gini index it takes an list as input and outputs a scalar\n",
    "def gini(arr):\n",
    "    add = sum(arr)\n",
    "    temp = 0\n",
    "    for i in arr:\n",
    "        if i >0:\n",
    "            temp += (i/add)**2\n",
    "    return 1-temp"
   ]
  },
  {
   "cell_type": "code",
   "execution_count": 9,
   "id": "a8631815",
   "metadata": {},
   "outputs": [],
   "source": [
    "# This function is used to find the gini split. It takes two lists as argument\n",
    "def gini_split(child1,child2):\n",
    "    gini_c1 = gini(child1)\n",
    "    gini_c2 = gini(child2)\n",
    "    c1 = sum(child1)\n",
    "    c2 = sum(child2)\n",
    "    return ((c1*gini_c1) + (c2*gini_c2))/(c1+c2)"
   ]
  },
  {
   "cell_type": "code",
   "execution_count": 10,
   "id": "972637dd",
   "metadata": {},
   "outputs": [],
   "source": [
    "# This function is used to calculate the information gain. This function takes three lists as arguments\n",
    "def info_gain(parent,child1,child2):\n",
    "    p_sum = sum(parent)\n",
    "    c1_sum = sum(child1)\n",
    "    c2_sum = sum(child2)\n",
    "    p_ent = entropy(parent)\n",
    "    c1_ent = entropy(child1)\n",
    "    c2_ent = entropy(child2)\n",
    "    final = p_ent - ((c1_sum/p_sum)*c1_ent + (c2_sum/p_sum)*c2_ent)\n",
    "    return final\n",
    "    "
   ]
  },
  {
   "cell_type": "code",
   "execution_count": 11,
   "id": "14dde7d9",
   "metadata": {},
   "outputs": [],
   "source": [
    "'''# This function is used to find the split information which is later being used to calculate gain ratio. \n",
    "It takes a list and a list as argument'''\n",
    "def split_info(sum_parent,children):\n",
    "    temp = 0\n",
    "    for i in children:\n",
    "        if i>0:\n",
    "            temp -= (i/sum_parent)*(math.log(i/sum_parent,2))\n",
    "\n",
    "    return temp"
   ]
  },
  {
   "cell_type": "code",
   "execution_count": 12,
   "id": "7605bb54",
   "metadata": {},
   "outputs": [],
   "source": [
    "# This function is used to calculate gain ratio. It takes three lists as input arguments\n",
    "def gain_ratio(parent,child1,child2):\n",
    "    infogain = info_gain(parent,child1,child2)\n",
    "    splitinfo = split_info(sum(parent),[sum(child1),sum(child2)])\n",
    "    return infogain/splitinfo\n",
    "    \n",
    "    "
   ]
  },
  {
   "cell_type": "code",
   "execution_count": 13,
   "id": "e6bd72ea",
   "metadata": {},
   "outputs": [],
   "source": [
    "# This function prints the values in a given list.\n",
    "def print_values(arr):\n",
    "    for i in range(len(arr)):\n",
    "        print('Count of',i,'=',arr[i])\n",
    "    return"
   ]
  },
  {
   "cell_type": "code",
   "execution_count": 14,
   "id": "1c43d8f7",
   "metadata": {},
   "outputs": [],
   "source": [
    "# This function is being used to find the classes present in a dataframe\n",
    "def find_values(feature):\n",
    "    arr = []\n",
    "    for i in range(3):\n",
    "        p = feature[feature['target'] == i]['target'].value_counts()\n",
    "        if len(p) == 0:\n",
    "            arr.append(0)\n",
    "        else:\n",
    "            arr.append(p[i])\n",
    "    return arr"
   ]
  },
  {
   "cell_type": "code",
   "execution_count": 15,
   "id": "b26b700f",
   "metadata": {},
   "outputs": [],
   "source": [
    "def run(feature,level):\n",
    "    total_class = find_values(feature) #Total classes in the given dataframe\n",
    "\n",
    "    if  entropy(total_class) == 0: #checks if current node is a leaf node\n",
    "        print('Level', level)\n",
    "        print_values(find_values(feature))\n",
    "        print('Current Entropy is =', entropy(total_class))\n",
    "        print('Reached at leaf Node')\n",
    "        print()\n",
    "        return\n",
    "        \n",
    "        \n",
    "    split_f = 0    #Splitting Feature\n",
    "    max_v = 0     #Point of split\n",
    "    gain = float('inf')\n",
    "    for i in feature.columns[:-1]:     #Iterates on every feature\n",
    "        temp1 = np.sort(feature[i])\n",
    "        temp = (temp1[:-1] + temp1[1:])/2    #Finds the middle points\n",
    "        lis = np.unique(temp)\n",
    "        for j in lis:                    #Iterating on middle points\n",
    "            x = feature[feature[i]>j]\n",
    "            y = feature[feature[i]<=j]\n",
    "\n",
    "            node1 = find_values(x)\n",
    "            node2 = find_values(y)\n",
    "            store = gini_split(node1,node2)\n",
    "            if store < gain:\n",
    "                gain = store\n",
    "                split_f = i\n",
    "                max_v = j\n",
    "                left_node = node1\n",
    "                right_node = node2\n",
    "                left_data = x.copy()\n",
    "                right_data = y.copy()\n",
    "                \n",
    "                \n",
    "                \n",
    "    print('Level', level)\n",
    "    print_values(total_class)\n",
    "    print('Current Entropy is =', entropy(total_class))\n",
    "    print('Splliting on', split_f,'with Gain Ratio',gain_ratio(total_class,left_node,right_node))\n",
    "    print()\n",
    "\n",
    "\n",
    "    run(left_data,level+1)\n",
    "    run(right_data,level+1)\n",
    "\n",
    "                \n",
    "    return \n",
    "    \n",
    "            "
   ]
  },
  {
   "cell_type": "code",
   "execution_count": 16,
   "id": "8137215a",
   "metadata": {
    "scrolled": false
   },
   "outputs": [
    {
     "name": "stdout",
     "output_type": "stream",
     "text": [
      "Level 0\n",
      "Count of 0 = 50\n",
      "Count of 1 = 50\n",
      "Count of 2 = 50\n",
      "Current Entropy is = 1.584962500721156\n",
      "Splliting on petal length (cm) with Gain Ratio 0.9999999999999999\n",
      "\n",
      "Level 1\n",
      "Count of 0 = 0\n",
      "Count of 1 = 50\n",
      "Count of 2 = 50\n",
      "Current Entropy is = 1.0\n",
      "Splliting on petal width (cm) with Gain Ratio 0.6933647985912662\n",
      "\n",
      "Level 2\n",
      "Count of 0 = 0\n",
      "Count of 1 = 1\n",
      "Count of 2 = 45\n",
      "Current Entropy is = 0.15109697051711368\n",
      "Splliting on petal length (cm) with Gain Ratio 0.2622302372762406\n",
      "\n",
      "Level 3\n",
      "Count of 0 = 0\n",
      "Count of 1 = 0\n",
      "Count of 2 = 43\n",
      "Current Entropy is = 0.0\n",
      "Reached at leaf Node\n",
      "\n",
      "Level 3\n",
      "Count of 0 = 0\n",
      "Count of 1 = 1\n",
      "Count of 2 = 2\n",
      "Current Entropy is = 0.9182958340544896\n",
      "Splliting on sepal length (cm) with Gain Ratio 1.0\n",
      "\n",
      "Level 4\n",
      "Count of 0 = 0\n",
      "Count of 1 = 0\n",
      "Count of 2 = 2\n",
      "Current Entropy is = 0.0\n",
      "Reached at leaf Node\n",
      "\n",
      "Level 4\n",
      "Count of 0 = 0\n",
      "Count of 1 = 1\n",
      "Count of 2 = 0\n",
      "Current Entropy is = 0.0\n",
      "Reached at leaf Node\n",
      "\n",
      "Level 2\n",
      "Count of 0 = 0\n",
      "Count of 1 = 49\n",
      "Count of 2 = 5\n",
      "Current Entropy is = 0.44506485705083865\n",
      "Splliting on petal length (cm) with Gain Ratio 0.42358052754959047\n",
      "\n",
      "Level 3\n",
      "Count of 0 = 0\n",
      "Count of 1 = 2\n",
      "Count of 2 = 4\n",
      "Current Entropy is = 0.9182958340544896\n",
      "Splliting on petal width (cm) with Gain Ratio 0.4591479170272448\n",
      "\n",
      "Level 4\n",
      "Count of 0 = 0\n",
      "Count of 1 = 2\n",
      "Count of 2 = 1\n",
      "Current Entropy is = 0.9182958340544896\n",
      "Splliting on sepal length (cm) with Gain Ratio 1.0\n",
      "\n",
      "Level 5\n",
      "Count of 0 = 0\n",
      "Count of 1 = 0\n",
      "Count of 2 = 1\n",
      "Current Entropy is = 0.0\n",
      "Reached at leaf Node\n",
      "\n",
      "Level 5\n",
      "Count of 0 = 0\n",
      "Count of 1 = 2\n",
      "Count of 2 = 0\n",
      "Current Entropy is = 0.0\n",
      "Reached at leaf Node\n",
      "\n",
      "Level 4\n",
      "Count of 0 = 0\n",
      "Count of 1 = 0\n",
      "Count of 2 = 3\n",
      "Current Entropy is = 0.0\n",
      "Reached at leaf Node\n",
      "\n",
      "Level 3\n",
      "Count of 0 = 0\n",
      "Count of 1 = 47\n",
      "Count of 2 = 1\n",
      "Current Entropy is = 0.14609425012013633\n",
      "Splliting on petal width (cm) with Gain Ratio 1.0\n",
      "\n",
      "Level 4\n",
      "Count of 0 = 0\n",
      "Count of 1 = 0\n",
      "Count of 2 = 1\n",
      "Current Entropy is = 0.0\n",
      "Reached at leaf Node\n",
      "\n",
      "Level 4\n",
      "Count of 0 = 0\n",
      "Count of 1 = 47\n",
      "Count of 2 = 0\n",
      "Current Entropy is = 0.0\n",
      "Reached at leaf Node\n",
      "\n",
      "Level 1\n",
      "Count of 0 = 50\n",
      "Count of 1 = 0\n",
      "Count of 2 = 0\n",
      "Current Entropy is = 0.0\n",
      "Reached at leaf Node\n",
      "\n"
     ]
    }
   ],
   "source": [
    "run(feature,0)"
   ]
  },
  {
   "cell_type": "code",
   "execution_count": null,
   "id": "0c85dcef",
   "metadata": {},
   "outputs": [],
   "source": []
  },
  {
   "cell_type": "code",
   "execution_count": null,
   "id": "344457aa",
   "metadata": {},
   "outputs": [],
   "source": []
  },
  {
   "cell_type": "markdown",
   "id": "226427da",
   "metadata": {},
   "source": [
    "## Implementing Decision Tree using sklearn"
   ]
  },
  {
   "cell_type": "code",
   "execution_count": 17,
   "id": "b42c4c79",
   "metadata": {},
   "outputs": [],
   "source": [
    "from sklearn.tree import DecisionTreeClassifier, export_graphviz\n",
    "import pydotplus\n"
   ]
  },
  {
   "cell_type": "code",
   "execution_count": 18,
   "id": "83751706",
   "metadata": {},
   "outputs": [],
   "source": [
    "data = pd.DataFrame(iris.data)\n",
    "label = iris.target"
   ]
  },
  {
   "cell_type": "code",
   "execution_count": 19,
   "id": "fb985e39",
   "metadata": {},
   "outputs": [],
   "source": [
    "data.columns = iris.feature_names"
   ]
  },
  {
   "cell_type": "code",
   "execution_count": 20,
   "id": "9e922c7b",
   "metadata": {},
   "outputs": [],
   "source": [
    "instance = DecisionTreeClassifier()"
   ]
  },
  {
   "cell_type": "code",
   "execution_count": 21,
   "id": "87c44ca7",
   "metadata": {},
   "outputs": [],
   "source": [
    "instance = DecisionTreeClassifier()"
   ]
  },
  {
   "cell_type": "code",
   "execution_count": 22,
   "id": "5f864a1e",
   "metadata": {},
   "outputs": [
    {
     "data": {
      "text/html": [
       "<style>#sk-container-id-1 {color: black;}#sk-container-id-1 pre{padding: 0;}#sk-container-id-1 div.sk-toggleable {background-color: white;}#sk-container-id-1 label.sk-toggleable__label {cursor: pointer;display: block;width: 100%;margin-bottom: 0;padding: 0.3em;box-sizing: border-box;text-align: center;}#sk-container-id-1 label.sk-toggleable__label-arrow:before {content: \"▸\";float: left;margin-right: 0.25em;color: #696969;}#sk-container-id-1 label.sk-toggleable__label-arrow:hover:before {color: black;}#sk-container-id-1 div.sk-estimator:hover label.sk-toggleable__label-arrow:before {color: black;}#sk-container-id-1 div.sk-toggleable__content {max-height: 0;max-width: 0;overflow: hidden;text-align: left;background-color: #f0f8ff;}#sk-container-id-1 div.sk-toggleable__content pre {margin: 0.2em;color: black;border-radius: 0.25em;background-color: #f0f8ff;}#sk-container-id-1 input.sk-toggleable__control:checked~div.sk-toggleable__content {max-height: 200px;max-width: 100%;overflow: auto;}#sk-container-id-1 input.sk-toggleable__control:checked~label.sk-toggleable__label-arrow:before {content: \"▾\";}#sk-container-id-1 div.sk-estimator input.sk-toggleable__control:checked~label.sk-toggleable__label {background-color: #d4ebff;}#sk-container-id-1 div.sk-label input.sk-toggleable__control:checked~label.sk-toggleable__label {background-color: #d4ebff;}#sk-container-id-1 input.sk-hidden--visually {border: 0;clip: rect(1px 1px 1px 1px);clip: rect(1px, 1px, 1px, 1px);height: 1px;margin: -1px;overflow: hidden;padding: 0;position: absolute;width: 1px;}#sk-container-id-1 div.sk-estimator {font-family: monospace;background-color: #f0f8ff;border: 1px dotted black;border-radius: 0.25em;box-sizing: border-box;margin-bottom: 0.5em;}#sk-container-id-1 div.sk-estimator:hover {background-color: #d4ebff;}#sk-container-id-1 div.sk-parallel-item::after {content: \"\";width: 100%;border-bottom: 1px solid gray;flex-grow: 1;}#sk-container-id-1 div.sk-label:hover label.sk-toggleable__label {background-color: #d4ebff;}#sk-container-id-1 div.sk-serial::before {content: \"\";position: absolute;border-left: 1px solid gray;box-sizing: border-box;top: 0;bottom: 0;left: 50%;z-index: 0;}#sk-container-id-1 div.sk-serial {display: flex;flex-direction: column;align-items: center;background-color: white;padding-right: 0.2em;padding-left: 0.2em;position: relative;}#sk-container-id-1 div.sk-item {position: relative;z-index: 1;}#sk-container-id-1 div.sk-parallel {display: flex;align-items: stretch;justify-content: center;background-color: white;position: relative;}#sk-container-id-1 div.sk-item::before, #sk-container-id-1 div.sk-parallel-item::before {content: \"\";position: absolute;border-left: 1px solid gray;box-sizing: border-box;top: 0;bottom: 0;left: 50%;z-index: -1;}#sk-container-id-1 div.sk-parallel-item {display: flex;flex-direction: column;z-index: 1;position: relative;background-color: white;}#sk-container-id-1 div.sk-parallel-item:first-child::after {align-self: flex-end;width: 50%;}#sk-container-id-1 div.sk-parallel-item:last-child::after {align-self: flex-start;width: 50%;}#sk-container-id-1 div.sk-parallel-item:only-child::after {width: 0;}#sk-container-id-1 div.sk-dashed-wrapped {border: 1px dashed gray;margin: 0 0.4em 0.5em 0.4em;box-sizing: border-box;padding-bottom: 0.4em;background-color: white;}#sk-container-id-1 div.sk-label label {font-family: monospace;font-weight: bold;display: inline-block;line-height: 1.2em;}#sk-container-id-1 div.sk-label-container {text-align: center;}#sk-container-id-1 div.sk-container {/* jupyter's `normalize.less` sets `[hidden] { display: none; }` but bootstrap.min.css set `[hidden] { display: none !important; }` so we also need the `!important` here to be able to override the default hidden behavior on the sphinx rendered scikit-learn.org. See: https://github.com/scikit-learn/scikit-learn/issues/21755 */display: inline-block !important;position: relative;}#sk-container-id-1 div.sk-text-repr-fallback {display: none;}</style><div id=\"sk-container-id-1\" class=\"sk-top-container\"><div class=\"sk-text-repr-fallback\"><pre>DecisionTreeClassifier()</pre><b>In a Jupyter environment, please rerun this cell to show the HTML representation or trust the notebook. <br />On GitHub, the HTML representation is unable to render, please try loading this page with nbviewer.org.</b></div><div class=\"sk-container\" hidden><div class=\"sk-item\"><div class=\"sk-estimator sk-toggleable\"><input class=\"sk-toggleable__control sk-hidden--visually\" id=\"sk-estimator-id-1\" type=\"checkbox\" checked><label for=\"sk-estimator-id-1\" class=\"sk-toggleable__label sk-toggleable__label-arrow\">DecisionTreeClassifier</label><div class=\"sk-toggleable__content\"><pre>DecisionTreeClassifier()</pre></div></div></div></div></div>"
      ],
      "text/plain": [
       "DecisionTreeClassifier()"
      ]
     },
     "execution_count": 22,
     "metadata": {},
     "output_type": "execute_result"
    }
   ],
   "source": [
    "instance.fit(data, label)"
   ]
  },
  {
   "cell_type": "code",
   "execution_count": 23,
   "id": "3d7d0e0e",
   "metadata": {},
   "outputs": [],
   "source": [
    "dot_data = export_graphviz(instance, out_file=None,feature_names = iris.feature_names,class_names = iris.target_names)"
   ]
  },
  {
   "cell_type": "code",
   "execution_count": 24,
   "id": "8efa8d83",
   "metadata": {},
   "outputs": [],
   "source": [
    "graph = pydotplus.graph_from_dot_data(dot_data)"
   ]
  },
  {
   "cell_type": "code",
   "execution_count": 25,
   "id": "10fc79b9",
   "metadata": {},
   "outputs": [
    {
     "data": {
      "text/plain": [
       "True"
      ]
     },
     "execution_count": 25,
     "metadata": {},
     "output_type": "execute_result"
    }
   ],
   "source": [
    "graph.write_pdf('iris.pdf')"
   ]
  },
  {
   "cell_type": "code",
   "execution_count": null,
   "id": "fa8b0cbd",
   "metadata": {},
   "outputs": [],
   "source": []
  }
 ],
 "metadata": {
  "kernelspec": {
   "display_name": "Python 3 (ipykernel)",
   "language": "python",
   "name": "python3"
  },
  "language_info": {
   "codemirror_mode": {
    "name": "ipython",
    "version": 3
   },
   "file_extension": ".py",
   "mimetype": "text/x-python",
   "name": "python",
   "nbconvert_exporter": "python",
   "pygments_lexer": "ipython3",
   "version": "3.11.4"
  }
 },
 "nbformat": 4,
 "nbformat_minor": 5
}
