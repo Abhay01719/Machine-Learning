{
 "cells": [
  {
   "cell_type": "code",
   "execution_count": 44,
   "id": "574a5539",
   "metadata": {},
   "outputs": [],
   "source": [
    "import pandas as pd\n",
    "import numpy as np"
   ]
  },
  {
   "cell_type": "code",
   "execution_count": 45,
   "id": "3cd6d1e8",
   "metadata": {},
   "outputs": [],
   "source": [
    "from sklearn import datasets"
   ]
  },
  {
   "cell_type": "code",
   "execution_count": 46,
   "id": "9e46e5a4",
   "metadata": {},
   "outputs": [],
   "source": [
    "data = datasets.load_breast_cancer()"
   ]
  },
  {
   "cell_type": "code",
   "execution_count": 47,
   "id": "8317d65d",
   "metadata": {},
   "outputs": [
    {
     "data": {
      "text/plain": [
       "{'data': array([[1.799e+01, 1.038e+01, 1.228e+02, ..., 2.654e-01, 4.601e-01,\n",
       "         1.189e-01],\n",
       "        [2.057e+01, 1.777e+01, 1.329e+02, ..., 1.860e-01, 2.750e-01,\n",
       "         8.902e-02],\n",
       "        [1.969e+01, 2.125e+01, 1.300e+02, ..., 2.430e-01, 3.613e-01,\n",
       "         8.758e-02],\n",
       "        ...,\n",
       "        [1.660e+01, 2.808e+01, 1.083e+02, ..., 1.418e-01, 2.218e-01,\n",
       "         7.820e-02],\n",
       "        [2.060e+01, 2.933e+01, 1.401e+02, ..., 2.650e-01, 4.087e-01,\n",
       "         1.240e-01],\n",
       "        [7.760e+00, 2.454e+01, 4.792e+01, ..., 0.000e+00, 2.871e-01,\n",
       "         7.039e-02]]),\n",
       " 'target': array([0, 0, 0, 0, 0, 0, 0, 0, 0, 0, 0, 0, 0, 0, 0, 0, 0, 0, 0, 1, 1, 1,\n",
       "        0, 0, 0, 0, 0, 0, 0, 0, 0, 0, 0, 0, 0, 0, 0, 1, 0, 0, 0, 0, 0, 0,\n",
       "        0, 0, 1, 0, 1, 1, 1, 1, 1, 0, 0, 1, 0, 0, 1, 1, 1, 1, 0, 1, 0, 0,\n",
       "        1, 1, 1, 1, 0, 1, 0, 0, 1, 0, 1, 0, 0, 1, 1, 1, 0, 0, 1, 0, 0, 0,\n",
       "        1, 1, 1, 0, 1, 1, 0, 0, 1, 1, 1, 0, 0, 1, 1, 1, 1, 0, 1, 1, 0, 1,\n",
       "        1, 1, 1, 1, 1, 1, 1, 0, 0, 0, 1, 0, 0, 1, 1, 1, 0, 0, 1, 0, 1, 0,\n",
       "        0, 1, 0, 0, 1, 1, 0, 1, 1, 0, 1, 1, 1, 1, 0, 1, 1, 1, 1, 1, 1, 1,\n",
       "        1, 1, 0, 1, 1, 1, 1, 0, 0, 1, 0, 1, 1, 0, 0, 1, 1, 0, 0, 1, 1, 1,\n",
       "        1, 0, 1, 1, 0, 0, 0, 1, 0, 1, 0, 1, 1, 1, 0, 1, 1, 0, 0, 1, 0, 0,\n",
       "        0, 0, 1, 0, 0, 0, 1, 0, 1, 0, 1, 1, 0, 1, 0, 0, 0, 0, 1, 1, 0, 0,\n",
       "        1, 1, 1, 0, 1, 1, 1, 1, 1, 0, 0, 1, 1, 0, 1, 1, 0, 0, 1, 0, 1, 1,\n",
       "        1, 1, 0, 1, 1, 1, 1, 1, 0, 1, 0, 0, 0, 0, 0, 0, 0, 0, 0, 0, 0, 0,\n",
       "        0, 0, 1, 1, 1, 1, 1, 1, 0, 1, 0, 1, 1, 0, 1, 1, 0, 1, 0, 0, 1, 1,\n",
       "        1, 1, 1, 1, 1, 1, 1, 1, 1, 1, 1, 0, 1, 1, 0, 1, 0, 1, 1, 1, 1, 1,\n",
       "        1, 1, 1, 1, 1, 1, 1, 1, 1, 0, 1, 1, 1, 0, 1, 0, 1, 1, 1, 1, 0, 0,\n",
       "        0, 1, 1, 1, 1, 0, 1, 0, 1, 0, 1, 1, 1, 0, 1, 1, 1, 1, 1, 1, 1, 0,\n",
       "        0, 0, 1, 1, 1, 1, 1, 1, 1, 1, 1, 1, 1, 0, 0, 1, 0, 0, 0, 1, 0, 0,\n",
       "        1, 1, 1, 1, 1, 0, 1, 1, 1, 1, 1, 0, 1, 1, 1, 0, 1, 1, 0, 0, 1, 1,\n",
       "        1, 1, 1, 1, 0, 1, 1, 1, 1, 1, 1, 1, 0, 1, 1, 1, 1, 1, 0, 1, 1, 0,\n",
       "        1, 1, 1, 1, 1, 1, 1, 1, 1, 1, 1, 1, 0, 1, 0, 0, 1, 0, 1, 1, 1, 1,\n",
       "        1, 0, 1, 1, 0, 1, 0, 1, 1, 0, 1, 0, 1, 1, 1, 1, 1, 1, 1, 1, 0, 0,\n",
       "        1, 1, 1, 1, 1, 1, 0, 1, 1, 1, 1, 1, 1, 1, 1, 1, 1, 0, 1, 1, 1, 1,\n",
       "        1, 1, 1, 0, 1, 0, 1, 1, 0, 1, 1, 1, 1, 1, 0, 0, 1, 0, 1, 0, 1, 1,\n",
       "        1, 1, 1, 0, 1, 1, 0, 1, 0, 1, 0, 0, 1, 1, 1, 0, 1, 1, 1, 1, 1, 1,\n",
       "        1, 1, 1, 1, 1, 0, 1, 0, 0, 1, 1, 1, 1, 1, 1, 1, 1, 1, 1, 1, 1, 1,\n",
       "        1, 1, 1, 1, 1, 1, 1, 1, 1, 1, 1, 1, 0, 0, 0, 0, 0, 0, 1]),\n",
       " 'frame': None,\n",
       " 'target_names': array(['malignant', 'benign'], dtype='<U9'),\n",
       " 'DESCR': '.. _breast_cancer_dataset:\\n\\nBreast cancer wisconsin (diagnostic) dataset\\n--------------------------------------------\\n\\n**Data Set Characteristics:**\\n\\n    :Number of Instances: 569\\n\\n    :Number of Attributes: 30 numeric, predictive attributes and the class\\n\\n    :Attribute Information:\\n        - radius (mean of distances from center to points on the perimeter)\\n        - texture (standard deviation of gray-scale values)\\n        - perimeter\\n        - area\\n        - smoothness (local variation in radius lengths)\\n        - compactness (perimeter^2 / area - 1.0)\\n        - concavity (severity of concave portions of the contour)\\n        - concave points (number of concave portions of the contour)\\n        - symmetry\\n        - fractal dimension (\"coastline approximation\" - 1)\\n\\n        The mean, standard error, and \"worst\" or largest (mean of the three\\n        worst/largest values) of these features were computed for each image,\\n        resulting in 30 features.  For instance, field 0 is Mean Radius, field\\n        10 is Radius SE, field 20 is Worst Radius.\\n\\n        - class:\\n                - WDBC-Malignant\\n                - WDBC-Benign\\n\\n    :Summary Statistics:\\n\\n    ===================================== ====== ======\\n                                           Min    Max\\n    ===================================== ====== ======\\n    radius (mean):                        6.981  28.11\\n    texture (mean):                       9.71   39.28\\n    perimeter (mean):                     43.79  188.5\\n    area (mean):                          143.5  2501.0\\n    smoothness (mean):                    0.053  0.163\\n    compactness (mean):                   0.019  0.345\\n    concavity (mean):                     0.0    0.427\\n    concave points (mean):                0.0    0.201\\n    symmetry (mean):                      0.106  0.304\\n    fractal dimension (mean):             0.05   0.097\\n    radius (standard error):              0.112  2.873\\n    texture (standard error):             0.36   4.885\\n    perimeter (standard error):           0.757  21.98\\n    area (standard error):                6.802  542.2\\n    smoothness (standard error):          0.002  0.031\\n    compactness (standard error):         0.002  0.135\\n    concavity (standard error):           0.0    0.396\\n    concave points (standard error):      0.0    0.053\\n    symmetry (standard error):            0.008  0.079\\n    fractal dimension (standard error):   0.001  0.03\\n    radius (worst):                       7.93   36.04\\n    texture (worst):                      12.02  49.54\\n    perimeter (worst):                    50.41  251.2\\n    area (worst):                         185.2  4254.0\\n    smoothness (worst):                   0.071  0.223\\n    compactness (worst):                  0.027  1.058\\n    concavity (worst):                    0.0    1.252\\n    concave points (worst):               0.0    0.291\\n    symmetry (worst):                     0.156  0.664\\n    fractal dimension (worst):            0.055  0.208\\n    ===================================== ====== ======\\n\\n    :Missing Attribute Values: None\\n\\n    :Class Distribution: 212 - Malignant, 357 - Benign\\n\\n    :Creator:  Dr. William H. Wolberg, W. Nick Street, Olvi L. Mangasarian\\n\\n    :Donor: Nick Street\\n\\n    :Date: November, 1995\\n\\nThis is a copy of UCI ML Breast Cancer Wisconsin (Diagnostic) datasets.\\nhttps://goo.gl/U2Uwz2\\n\\nFeatures are computed from a digitized image of a fine needle\\naspirate (FNA) of a breast mass.  They describe\\ncharacteristics of the cell nuclei present in the image.\\n\\nSeparating plane described above was obtained using\\nMultisurface Method-Tree (MSM-T) [K. P. Bennett, \"Decision Tree\\nConstruction Via Linear Programming.\" Proceedings of the 4th\\nMidwest Artificial Intelligence and Cognitive Science Society,\\npp. 97-101, 1992], a classification method which uses linear\\nprogramming to construct a decision tree.  Relevant features\\nwere selected using an exhaustive search in the space of 1-4\\nfeatures and 1-3 separating planes.\\n\\nThe actual linear program used to obtain the separating plane\\nin the 3-dimensional space is that described in:\\n[K. P. Bennett and O. L. Mangasarian: \"Robust Linear\\nProgramming Discrimination of Two Linearly Inseparable Sets\",\\nOptimization Methods and Software 1, 1992, 23-34].\\n\\nThis database is also available through the UW CS ftp server:\\n\\nftp ftp.cs.wisc.edu\\ncd math-prog/cpo-dataset/machine-learn/WDBC/\\n\\n.. topic:: References\\n\\n   - W.N. Street, W.H. Wolberg and O.L. Mangasarian. Nuclear feature extraction \\n     for breast tumor diagnosis. IS&T/SPIE 1993 International Symposium on \\n     Electronic Imaging: Science and Technology, volume 1905, pages 861-870,\\n     San Jose, CA, 1993.\\n   - O.L. Mangasarian, W.N. Street and W.H. Wolberg. Breast cancer diagnosis and \\n     prognosis via linear programming. Operations Research, 43(4), pages 570-577, \\n     July-August 1995.\\n   - W.H. Wolberg, W.N. Street, and O.L. Mangasarian. Machine learning techniques\\n     to diagnose breast cancer from fine-needle aspirates. Cancer Letters 77 (1994) \\n     163-171.',\n",
       " 'feature_names': array(['mean radius', 'mean texture', 'mean perimeter', 'mean area',\n",
       "        'mean smoothness', 'mean compactness', 'mean concavity',\n",
       "        'mean concave points', 'mean symmetry', 'mean fractal dimension',\n",
       "        'radius error', 'texture error', 'perimeter error', 'area error',\n",
       "        'smoothness error', 'compactness error', 'concavity error',\n",
       "        'concave points error', 'symmetry error',\n",
       "        'fractal dimension error', 'worst radius', 'worst texture',\n",
       "        'worst perimeter', 'worst area', 'worst smoothness',\n",
       "        'worst compactness', 'worst concavity', 'worst concave points',\n",
       "        'worst symmetry', 'worst fractal dimension'], dtype='<U23'),\n",
       " 'filename': 'breast_cancer.csv',\n",
       " 'data_module': 'sklearn.datasets.data'}"
      ]
     },
     "execution_count": 47,
     "metadata": {},
     "output_type": "execute_result"
    }
   ],
   "source": [
    "data"
   ]
  },
  {
   "cell_type": "code",
   "execution_count": 82,
   "id": "50f4b76f",
   "metadata": {},
   "outputs": [],
   "source": [
    "feature = np.array(data.data)"
   ]
  },
  {
   "cell_type": "code",
   "execution_count": 49,
   "id": "e3a2f6b6",
   "metadata": {},
   "outputs": [],
   "source": [
    "label = np.array(data.target)"
   ]
  },
  {
   "cell_type": "code",
   "execution_count": 50,
   "id": "3addb518",
   "metadata": {},
   "outputs": [
    {
     "data": {
      "text/plain": [
       "((569, 30), (569,))"
      ]
     },
     "execution_count": 50,
     "metadata": {},
     "output_type": "execute_result"
    }
   ],
   "source": [
    "feature.shape, label.shape"
   ]
  },
  {
   "cell_type": "code",
   "execution_count": 51,
   "id": "4f30db11",
   "metadata": {},
   "outputs": [],
   "source": [
    "temp1 = np.ones((feature.shape[0],1))\n"
   ]
  },
  {
   "cell_type": "code",
   "execution_count": 52,
   "id": "d5c292e9",
   "metadata": {},
   "outputs": [],
   "source": [
    "feature = np.append(feature, temp1, axis=1)"
   ]
  },
  {
   "cell_type": "code",
   "execution_count": 53,
   "id": "dde4d7ff",
   "metadata": {},
   "outputs": [
    {
     "data": {
      "text/plain": [
       "(569, 31)"
      ]
     },
     "execution_count": 53,
     "metadata": {},
     "output_type": "execute_result"
    }
   ],
   "source": [
    "feature.shape"
   ]
  },
  {
   "cell_type": "code",
   "execution_count": null,
   "id": "d00fea3b",
   "metadata": {},
   "outputs": [],
   "source": []
  },
  {
   "cell_type": "code",
   "execution_count": 67,
   "id": "c5dd8d51",
   "metadata": {},
   "outputs": [],
   "source": [
    "def cost(x,y,m):\n",
    "    temp = 0\n",
    "    for i in range(len(m)):\n",
    "        temp += x[:,i]*m[i]\n",
    "    return ((np.log(1+(np.e**temp)))- y*temp).mean()"
   ]
  },
  {
   "cell_type": "code",
   "execution_count": 68,
   "id": "b857d4fd",
   "metadata": {},
   "outputs": [],
   "source": [
    "def derivative(x,y,m,j):\n",
    "    e = np.e\n",
    "    temp = 0\n",
    "    for i in range(len(m)):\n",
    "        temp += x[:,i]*m[i]\n",
    "    return -1*((y-(1/(1+e**(-1*temp))))*x[:,j]).mean()\n",
    "    "
   ]
  },
  {
   "cell_type": "code",
   "execution_count": 69,
   "id": "dac100fb",
   "metadata": {},
   "outputs": [],
   "source": [
    "def gradient(x,y,m,alpha):\n",
    "    for i in range(len(m)):\n",
    "        m[i] -= alpha*derivative(x,y,m,i)\n",
    "    return m"
   ]
  },
  {
   "cell_type": "code",
   "execution_count": 109,
   "id": "b24ebecf",
   "metadata": {},
   "outputs": [],
   "source": [
    "def run(x,y):\n",
    "    m = [0]*(x.shape[1])\n",
    "    alpha = 0.0001\n",
    "    iterations = 500\n",
    "    for i in range(iterations):\n",
    "        m = gradient(x,y,m,alpha)\n",
    "        print(cost(x,y,m))\n",
    "    return m\n",
    "        "
   ]
  },
  {
   "cell_type": "code",
   "execution_count": 118,
   "id": "ed3be61a",
   "metadata": {},
   "outputs": [],
   "source": [
    "def predict(x,m):\n",
    "    temp = 0\n",
    "    for i in range(len(m)):\n",
    "        temp += x[:,i]*m[i]\n",
    "    p = np.e**(-1*temp) + 1\n",
    "    return 1/p"
   ]
  },
  {
   "cell_type": "code",
   "execution_count": 119,
   "id": "be8699e5",
   "metadata": {},
   "outputs": [
    {
     "name": "stdout",
     "output_type": "stream",
     "text": [
      "12.9097432660348\n",
      "5.613589797370137\n",
      "10.68075048868489\n",
      "8.64110670982179\n",
      "8.189496927681907\n",
      "8.373614034505895\n",
      "8.35099455321356\n",
      "9.244488537879889\n",
      "6.035400812941983\n",
      "15.917204608947037\n",
      "5.94670769182609\n",
      "11.351942748831062\n",
      "9.309922401230684\n",
      "9.219427113464986\n",
      "8.605432138102028\n",
      "8.33139905719686\n",
      "8.415196944066345\n",
      "8.179376827958265\n",
      "8.94306470212818\n",
      "6.761465725628447\n",
      "15.191088606946872\n",
      "7.0012862567303085\n",
      "12.284211868860218\n",
      "6.073859322240227\n",
      "9.67054456150379\n",
      "8.466320176502009\n",
      "8.213767741248793\n",
      "8.39469210040169\n",
      "7.965958853503104\n",
      "8.944739533134818\n",
      "5.349446539810244\n",
      "15.302897352986806\n",
      "6.467666000128379\n",
      "11.673644235814884\n",
      "6.873909108117756\n",
      "9.254455358080065\n",
      "8.201229515433255\n",
      "8.042384113984568\n",
      "8.206621773286738\n",
      "7.766809458990049\n",
      "8.787497410066898\n",
      "4.848531626759455\n",
      "14.807323088447156\n",
      "6.7053764914332605\n",
      "11.600268279336563\n",
      "6.549953319098535\n",
      "8.953136715060428\n",
      "7.909842535430156\n",
      "7.771121877482224\n",
      "7.911229260920358\n",
      "7.609417608695936\n",
      "8.324468821243133\n",
      "5.630196431299526\n",
      "13.679816178842554\n",
      "7.765258789061295\n",
      "11.347624982250556\n",
      "6.110305038399248\n",
      "8.63796989739565\n",
      "7.630984148742741\n",
      "7.509157124601728\n",
      "7.662227909806555\n",
      "7.460778314516203\n",
      "7.764342781446896\n",
      "6.44346223053261\n",
      "9.281656307595838\n",
      "6.805095937842489\n",
      "10.634802686611323\n",
      "6.708199950546893\n",
      "8.385807015394464\n",
      "7.410163573944955\n",
      "7.31252056950058\n",
      "7.427650931845968\n",
      "7.327997448965671\n",
      "7.241119825459713\n",
      "6.947440040830418\n",
      "4.739050386126002\n",
      "7.737369890094834\n",
      "0.9944813440801842\n",
      "5.122311029695642\n",
      "9.268131173119711\n",
      "7.468645086383435\n",
      "8.274762769752307\n",
      "7.519229240289545\n",
      "7.216854003399389\n",
      "7.307741634025689\n",
      "6.990582304212696\n",
      "7.3845527758360685\n",
      "6.155940187056441\n",
      "8.254701751544857\n",
      "2.127870452684496\n",
      "9.386121949353855\n",
      "7.048328486464583\n",
      "7.652481091511432\n",
      "6.995436368464705\n",
      "7.041736934462889\n",
      "6.853569301892244\n",
      "7.083055617255358\n",
      "6.134616377330553\n",
      "7.23437653201068\n",
      "1.1122869206641206\n",
      "6.62117206789546\n",
      "0.34242472211906294\n",
      "0.35483712012854646\n",
      "0.37047307454484946\n",
      "0.39283417021744027\n",
      "0.4327793812107734\n",
      "0.5369283709115032\n",
      "1.0334380008419253\n",
      "5.328558229438261\n",
      "8.823277628086505\n",
      "6.878841815876839\n",
      "7.3358789253843035\n",
      "6.819155215768459\n",
      "6.909138662551358\n",
      "6.733400266402041\n",
      "6.8495347347940045\n",
      "5.83378570337356\n",
      "6.8259184573557725\n",
      "1.4322487642117072\n",
      "6.484816962487279\n",
      "0.3597345422115041\n",
      "0.3653886029048113\n",
      "0.3692578608638542\n",
      "0.369518236679377\n",
      "0.37040992499648523\n",
      "0.3981516527827569\n",
      "0.507464067107604\n",
      "0.6290562914164338\n",
      "0.5297919763292653\n",
      "0.35693126579446727\n",
      "0.2752697010425545\n",
      "0.2529037559966484\n",
      "0.24953199719620003\n",
      "0.24918978395235297\n",
      "0.24910933268046379\n",
      "0.24903813369205824\n",
      "0.2489648539642094\n",
      "0.24889078608211349\n",
      "0.24881655192572275\n",
      "0.2487423300484583\n",
      "0.24866816699318361\n",
      "0.24859407414198925\n",
      "0.24852005374463226\n",
      "0.24844610570385445\n",
      "0.2483722293350705\n",
      "0.2482984238229608\n",
      "0.2482246883399015\n",
      "0.24815102207638595\n",
      "0.2480774242484685\n",
      "0.2480038940991926\n",
      "0.2479304308984464\n",
      "0.2478570339424098\n",
      "0.24778370255290313\n",
      "0.24771043607671792\n",
      "0.24763723388495176\n",
      "0.24756409537235083\n",
      "0.24749101995666722\n",
      "0.2474180070780253\n",
      "0.2473450561982989\n",
      "0.24727216680050412\n",
      "0.24719933838819969\n",
      "0.24712657048490172\n",
      "0.2470538626335089\n",
      "0.24698121439573958\n",
      "0.24690862535158037\n",
      "0.24683609509874652\n",
      "0.2467636232521533\n",
      "0.2466912094433988\n",
      "0.24661885332025854\n",
      "0.24654655454618862\n",
      "0.24647431279984539\n",
      "0.24640212777460943\n",
      "0.24632999917812526\n",
      "0.24625792673184907\n",
      "0.2461859101706088\n",
      "0.2461139492421728\n",
      "0.24604204370683097\n",
      "0.2459701933369839\n",
      "0.24589839791674334\n",
      "0.24582665724154254\n",
      "0.24575497111775615\n",
      "0.24568333936232928\n",
      "0.24561176180241692\n",
      "0.24554023827503202\n",
      "0.2454687686267027\n",
      "0.24539735271313942\n",
      "0.24532599039890976\n",
      "0.24525468155712235\n",
      "0.2451834260691204\n",
      "0.24511222382418177\n",
      "0.2450410747192285\n",
      "0.24496997865854506\n",
      "0.24489893555350234\n",
      "0.2448279453222917\n",
      "0.24475700788966573\n",
      "0.24468612318668592\n",
      "0.2446152911504788\n",
      "0.24454451172399858\n",
      "0.2444737848557966\n",
      "0.24440311049979818\n",
      "0.2443324886150862\n",
      "0.24426191916569112\n",
      "0.24419140212038615\n",
      "0.2441209374524919\n",
      "0.24405052513968317\n",
      "0.24398016516380544\n",
      "0.24390985751069388\n",
      "0.24383960217000067\n",
      "0.24376939913502713\n",
      "0.2436992484025599\n",
      "0.2436291499727147\n",
      "0.24355910384878374\n",
      "0.2434891100370879\n",
      "0.2434191685468357\n",
      "0.2433492793899849\n",
      "0.2432794425811101\n",
      "0.24320965813727385\n",
      "0.2431399260779038\n",
      "0.24307024642467234\n",
      "0.2430006192013813\n",
      "0.24293104443385063\n",
      "0.2428615221498114\n",
      "0.24279205237880175\n",
      "0.24272263515206724\n",
      "0.24265327050246477\n",
      "0.24258395846436956\n",
      "0.24251469907358683\n",
      "0.24244549236726423\n",
      "0.24237633838381079\n",
      "0.24230723716281666\n",
      "0.24223818874497657\n",
      "0.242169193172016\n",
      "0.24210025048662107\n",
      "0.24203136073236983\n",
      "0.2419625239536681\n",
      "0.24189374019568521\n",
      "0.2418250095042952\n",
      "0.24175633192601814\n",
      "0.24168770750796603\n",
      "0.24161913629778836\n",
      "0.2415506183436214\n",
      "0.2414821536940407\n",
      "0.24141374239801325\n",
      "0.24134538450485302\n",
      "0.24127708006417892\n",
      "0.24120882912587305\n",
      "0.24114063174004227\n",
      "0.2410724879569806\n",
      "0.2410043978271344\n",
      "0.24093636140106695\n",
      "0.24086837872942754\n",
      "0.24080044986291968\n",
      "0.24073257485227198\n",
      "0.24066475374821064\n",
      "0.24059698660143192\n",
      "0.24052927346257733\n",
      "0.24046161438220973\n",
      "0.24039400941079053\n",
      "0.24032645859865756\n",
      "0.24025896199600483\n",
      "0.24019151965286326\n",
      "0.24012413161908264\n",
      "0.24005679794431314\n",
      "0.23998951867799023\n",
      "0.23992229386931815\n",
      "0.23985512356725655\n",
      "0.23978800782050547\n",
      "0.23972094667749339\n",
      "0.2396539401863653\n",
      "0.2395869883949704\n",
      "0.23952009135085253\n",
      "0.23945324910124025\n",
      "0.23938646169303684\n",
      "0.23931972917281297\n",
      "0.2392530515867976\n",
      "0.23918642898087158\n",
      "0.23911986140056074\n",
      "0.2390533488910291\n",
      "0.23898689149707403\n",
      "0.23892048926312062\n",
      "0.23885414223321697\n",
      "0.23878785045103024\n",
      "0.23872161395984248\n",
      "0.2386554328025476\n",
      "0.23858930702164854\n",
      "0.2385232366592534\n",
      "0.23845722175707565\n",
      "0.2383912623564293\n",
      "0.23832535849822978\n",
      "0.2382595102229915\n",
      "0.23819371757082658\n",
      "0.2381279805814453\n",
      "0.23806229929415487\n",
      "0.23799667374785927\n",
      "0.23793110398106004\n",
      "0.23786559003185562\n",
      "0.23780013193794258\n",
      "0.23773472973661605\n",
      "0.23766938346477062\n",
      "0.237604093158902\n",
      "0.23753885885510745\n",
      "0.23747368058908802\n",
      "0.23740855839614922\n",
      "0.23734349231120408\n",
      "0.23727848236877336\n",
      "0.23721352860298908\n",
      "0.23714863104759612\n",
      "0.2370837897359537\n",
      "0.23701900470103884\n",
      "0.23695427597544863\n",
      "0.23688960359140127\n",
      "0.2368249875807408\n",
      "0.23676042797493868\n",
      "0.23669592480509605\n",
      "0.23663147810194782\n",
      "0.23656708789586456\n",
      "0.2365027542168554\n",
      "0.23643847709457153\n",
      "0.23637425655830954\n",
      "0.23631009263701286\n",
      "0.23624598535927643\n",
      "0.23618193475334937\n",
      "0.23611794084713764\n",
      "0.23605400366820778\n",
      "0.23599012324378982\n",
      "0.2359262996007806\n",
      "0.23586253276574692\n",
      "0.23579882276492836\n",
      "0.23573516962424163\n",
      "0.2356715733692821\n",
      "0.23560803402532873\n",
      "0.23554455161734608\n",
      "0.23548112616998831\n",
      "0.2354177577076018\n",
      "0.2353544462542284\n",
      "0.23529119183360955\n",
      "0.23522799446918793\n",
      "0.23516485418411184\n",
      "0.23510177100123797\n",
      "0.23503874494313415\n",
      "0.23497577603208336\n",
      "0.23491286429008568\n",
      "0.23485000973886222\n",
      "0.2347872123998579\n",
      "0.23472447229424445\n",
      "0.23466178944292332\n",
      "0.2345991638665288\n",
      "0.2345365955854309\n",
      "0.2344740846197381\n",
      "0.2344116309893009\n",
      "0.23434923471371333\n",
      "0.23428689581231735\n",
      "0.23422461430420485\n",
      "0.23416239020821994\n",
      "0.23410022354296267\n",
      "0.234038114326791\n",
      "0.233976062577824\n",
      "0.23391406831394412\n",
      "0.23385213155279985\n",
      "0.23379025231180792\n",
      "0.23372843060815685\n",
      "0.23366666645880863\n",
      "0.2336049598805011\n",
      "0.23354331088975086\n",
      "0.23348171950285557\n",
      "0.23342018573589585\n",
      "0.23335870960473845\n",
      "0.23329729112503744\n",
      "0.23323593031223733\n",
      "0.23317462718157494\n",
      "0.2331133817480819\n",
      "0.23305219402658625\n",
      "0.23299106403171507\n",
      "0.23292999177789628\n",
      "0.23286897727936037\n",
      "0.2328080205501438\n",
      "0.23274712160408906\n",
      "0.23268628045484785\n",
      "0.23262549711588276\n",
      "0.23256477160046884\n",
      "0.23250410392169604\n",
      "0.2324434940924705\n",
      "0.23238294212551627\n",
      "0.23232244803337768\n",
      "0.23226201182842057\n",
      "0.23220163352283382\n",
      "0.23214131312863148\n",
      "0.23208105065765425\n",
      "0.23202084612157098\n",
      "0.23196069953188003\n",
      "0.23190061089991112\n",
      "0.23184058023682727\n",
      "0.23178060755362473\n",
      "0.23172069286113642\n",
      "0.23166083617003205\n",
      "0.23160103749081956\n",
      "0.23154129683384705\n",
      "0.23148161420930383\n",
      "0.23142198962722185\n",
      "0.23136242309747634\n",
      "0.23130291462978794\n",
      "0.23124346423372388\n",
      "0.23118407191869825\n",
      "0.23112473769397415\n",
      "0.23106546156866456\n",
      "0.231006243551733\n",
      "0.23094708365199568\n",
      "0.23088798187812126\n",
      "0.23082893823863299\n",
      "0.2307699527419092\n",
      "0.23071102539618413\n",
      "0.23065215620955004\n",
      "0.2305933451899566\n",
      "0.23053459234521276\n",
      "0.2304758976829874\n",
      "0.23041726121081108\n",
      "0.2303586829360751\n",
      "0.23030016286603408\n",
      "0.23024170100780614\n",
      "0.23018329736837329\n",
      "0.23012495195458324\n",
      "0.23006666477314897\n",
      "0.2300084358306506\n",
      "0.22995026513353597\n",
      "0.22989215268812\n",
      "0.22983409850058714\n",
      "0.22977610257699158\n",
      "0.2297181649232573\n",
      "0.22966028554517934\n",
      "0.229602464448424\n",
      "0.22954470163852989\n",
      "0.2294869971209084\n",
      "0.22942935090084396\n",
      "0.22937176298349518\n",
      "0.2293142333738951\n",
      "0.22925676207695153\n",
      "0.22919934909744802\n",
      "0.2291419944400441\n",
      "0.22908469810927584\n",
      "0.22902746010955607\n",
      "0.22897028044517573\n",
      "0.22891315912030333\n",
      "0.22885609613898586\n",
      "0.22879909150514913\n",
      "0.22874214522259848\n",
      "0.22868525729501857\n",
      "0.22862842772597441\n"
     ]
    },
    {
     "name": "stdout",
     "output_type": "stream",
     "text": [
      "0.22857165651891148\n",
      "0.22851494367715597\n",
      "0.2284582892039153\n",
      "0.22840169310227887\n",
      "0.22834515537521732\n",
      "0.22828867602558464\n",
      "0.2282322550561161\n",
      "0.2281758924694307\n",
      "0.2281195882680304\n",
      "0.22806334245430068\n",
      "0.22800715503051097\n",
      "0.22795102599881473\n",
      "0.2278949553612491\n",
      "0.22783894311973665\n",
      "0.227782989276085\n",
      "0.22772709383198556\n",
      "0.22767125678901626\n",
      "0.22761547814863992\n",
      "0.2275597579122056\n",
      "0.22750409608094765\n",
      "0.2274484926559874\n",
      "0.22739294763833207\n",
      "0.22733746102887523\n",
      "0.2272820328283977\n",
      "0.2272266630375669\n",
      "0.2271713516569374\n",
      "0.2271160986869509\n",
      "0.22706090412793656\n",
      "0.2270057679801113\n",
      "0.22695069024357933\n",
      "0.22689567091833288\n",
      "0.2268407100042521\n",
      "0.22678580750110536\n",
      "0.226730963408549\n",
      "0.22667617772612766\n",
      "0.22662145045327486\n",
      "0.2265667815893121\n",
      "0.2265121711334494\n",
      "0.22645761908478634\n",
      "0.2264031254423104\n",
      "0.22634869020489862\n",
      "0.22629431337131659\n",
      "0.22623999494021904\n",
      "0.22618573491015032\n",
      "0.2261315332795431\n",
      "0.22607739004672017\n",
      "0.22602330520989283\n",
      "0.22596927876716258\n",
      "0.2259153107165201\n",
      "0.22586140105584535\n",
      "0.22580754978290787\n",
      "0.22575375689536703\n",
      "0.2257000223907718\n"
     ]
    }
   ],
   "source": [
    "m = run(feature,label)"
   ]
  },
  {
   "cell_type": "code",
   "execution_count": 124,
   "id": "0b108537",
   "metadata": {},
   "outputs": [],
   "source": [
    "y_out = np.round(predict(feature,m))"
   ]
  },
  {
   "cell_type": "code",
   "execution_count": 125,
   "id": "91241d05",
   "metadata": {},
   "outputs": [
    {
     "data": {
      "text/plain": [
       "0.0"
      ]
     },
     "execution_count": 125,
     "metadata": {},
     "output_type": "execute_result"
    }
   ],
   "source": [
    "y_out[0]"
   ]
  },
  {
   "cell_type": "code",
   "execution_count": null,
   "id": "735b5c24",
   "metadata": {},
   "outputs": [],
   "source": []
  },
  {
   "cell_type": "code",
   "execution_count": null,
   "id": "6b01443e",
   "metadata": {},
   "outputs": [],
   "source": []
  },
  {
   "cell_type": "code",
   "execution_count": null,
   "id": "274265f7",
   "metadata": {},
   "outputs": [],
   "source": []
  },
  {
   "cell_type": "code",
   "execution_count": null,
   "id": "e426f22f",
   "metadata": {},
   "outputs": [],
   "source": []
  },
  {
   "cell_type": "code",
   "execution_count": null,
   "id": "dfc0fde1",
   "metadata": {},
   "outputs": [],
   "source": []
  },
  {
   "cell_type": "code",
   "execution_count": 89,
   "id": "fa54aaf4",
   "metadata": {},
   "outputs": [],
   "source": [
    "from sklearn.linear_model import LogisticRegression"
   ]
  },
  {
   "cell_type": "code",
   "execution_count": 91,
   "id": "f931dc23",
   "metadata": {},
   "outputs": [],
   "source": [
    "var = LogisticRegression()"
   ]
  },
  {
   "cell_type": "code",
   "execution_count": 92,
   "id": "9b6fe9ea",
   "metadata": {},
   "outputs": [
    {
     "name": "stderr",
     "output_type": "stream",
     "text": [
      "C:\\ProgramData\\anaconda3\\Lib\\site-packages\\sklearn\\linear_model\\_logistic.py:460: ConvergenceWarning: lbfgs failed to converge (status=1):\n",
      "STOP: TOTAL NO. of ITERATIONS REACHED LIMIT.\n",
      "\n",
      "Increase the number of iterations (max_iter) or scale the data as shown in:\n",
      "    https://scikit-learn.org/stable/modules/preprocessing.html\n",
      "Please also refer to the documentation for alternative solver options:\n",
      "    https://scikit-learn.org/stable/modules/linear_model.html#logistic-regression\n",
      "  n_iter_i = _check_optimize_result(\n"
     ]
    },
    {
     "data": {
      "text/html": [
       "<style>#sk-container-id-1 {color: black;}#sk-container-id-1 pre{padding: 0;}#sk-container-id-1 div.sk-toggleable {background-color: white;}#sk-container-id-1 label.sk-toggleable__label {cursor: pointer;display: block;width: 100%;margin-bottom: 0;padding: 0.3em;box-sizing: border-box;text-align: center;}#sk-container-id-1 label.sk-toggleable__label-arrow:before {content: \"▸\";float: left;margin-right: 0.25em;color: #696969;}#sk-container-id-1 label.sk-toggleable__label-arrow:hover:before {color: black;}#sk-container-id-1 div.sk-estimator:hover label.sk-toggleable__label-arrow:before {color: black;}#sk-container-id-1 div.sk-toggleable__content {max-height: 0;max-width: 0;overflow: hidden;text-align: left;background-color: #f0f8ff;}#sk-container-id-1 div.sk-toggleable__content pre {margin: 0.2em;color: black;border-radius: 0.25em;background-color: #f0f8ff;}#sk-container-id-1 input.sk-toggleable__control:checked~div.sk-toggleable__content {max-height: 200px;max-width: 100%;overflow: auto;}#sk-container-id-1 input.sk-toggleable__control:checked~label.sk-toggleable__label-arrow:before {content: \"▾\";}#sk-container-id-1 div.sk-estimator input.sk-toggleable__control:checked~label.sk-toggleable__label {background-color: #d4ebff;}#sk-container-id-1 div.sk-label input.sk-toggleable__control:checked~label.sk-toggleable__label {background-color: #d4ebff;}#sk-container-id-1 input.sk-hidden--visually {border: 0;clip: rect(1px 1px 1px 1px);clip: rect(1px, 1px, 1px, 1px);height: 1px;margin: -1px;overflow: hidden;padding: 0;position: absolute;width: 1px;}#sk-container-id-1 div.sk-estimator {font-family: monospace;background-color: #f0f8ff;border: 1px dotted black;border-radius: 0.25em;box-sizing: border-box;margin-bottom: 0.5em;}#sk-container-id-1 div.sk-estimator:hover {background-color: #d4ebff;}#sk-container-id-1 div.sk-parallel-item::after {content: \"\";width: 100%;border-bottom: 1px solid gray;flex-grow: 1;}#sk-container-id-1 div.sk-label:hover label.sk-toggleable__label {background-color: #d4ebff;}#sk-container-id-1 div.sk-serial::before {content: \"\";position: absolute;border-left: 1px solid gray;box-sizing: border-box;top: 0;bottom: 0;left: 50%;z-index: 0;}#sk-container-id-1 div.sk-serial {display: flex;flex-direction: column;align-items: center;background-color: white;padding-right: 0.2em;padding-left: 0.2em;position: relative;}#sk-container-id-1 div.sk-item {position: relative;z-index: 1;}#sk-container-id-1 div.sk-parallel {display: flex;align-items: stretch;justify-content: center;background-color: white;position: relative;}#sk-container-id-1 div.sk-item::before, #sk-container-id-1 div.sk-parallel-item::before {content: \"\";position: absolute;border-left: 1px solid gray;box-sizing: border-box;top: 0;bottom: 0;left: 50%;z-index: -1;}#sk-container-id-1 div.sk-parallel-item {display: flex;flex-direction: column;z-index: 1;position: relative;background-color: white;}#sk-container-id-1 div.sk-parallel-item:first-child::after {align-self: flex-end;width: 50%;}#sk-container-id-1 div.sk-parallel-item:last-child::after {align-self: flex-start;width: 50%;}#sk-container-id-1 div.sk-parallel-item:only-child::after {width: 0;}#sk-container-id-1 div.sk-dashed-wrapped {border: 1px dashed gray;margin: 0 0.4em 0.5em 0.4em;box-sizing: border-box;padding-bottom: 0.4em;background-color: white;}#sk-container-id-1 div.sk-label label {font-family: monospace;font-weight: bold;display: inline-block;line-height: 1.2em;}#sk-container-id-1 div.sk-label-container {text-align: center;}#sk-container-id-1 div.sk-container {/* jupyter's `normalize.less` sets `[hidden] { display: none; }` but bootstrap.min.css set `[hidden] { display: none !important; }` so we also need the `!important` here to be able to override the default hidden behavior on the sphinx rendered scikit-learn.org. See: https://github.com/scikit-learn/scikit-learn/issues/21755 */display: inline-block !important;position: relative;}#sk-container-id-1 div.sk-text-repr-fallback {display: none;}</style><div id=\"sk-container-id-1\" class=\"sk-top-container\"><div class=\"sk-text-repr-fallback\"><pre>LogisticRegression()</pre><b>In a Jupyter environment, please rerun this cell to show the HTML representation or trust the notebook. <br />On GitHub, the HTML representation is unable to render, please try loading this page with nbviewer.org.</b></div><div class=\"sk-container\" hidden><div class=\"sk-item\"><div class=\"sk-estimator sk-toggleable\"><input class=\"sk-toggleable__control sk-hidden--visually\" id=\"sk-estimator-id-1\" type=\"checkbox\" checked><label for=\"sk-estimator-id-1\" class=\"sk-toggleable__label sk-toggleable__label-arrow\">LogisticRegression</label><div class=\"sk-toggleable__content\"><pre>LogisticRegression()</pre></div></div></div></div></div>"
      ],
      "text/plain": [
       "LogisticRegression()"
      ]
     },
     "execution_count": 92,
     "metadata": {},
     "output_type": "execute_result"
    }
   ],
   "source": [
    "var.fit(data.data, label)"
   ]
  },
  {
   "cell_type": "code",
   "execution_count": 94,
   "id": "eaad88be",
   "metadata": {},
   "outputs": [
    {
     "data": {
      "text/plain": [
       "0.9560632688927944"
      ]
     },
     "execution_count": 94,
     "metadata": {},
     "output_type": "execute_result"
    }
   ],
   "source": [
    "var.score(data.data,label)"
   ]
  },
  {
   "cell_type": "code",
   "execution_count": 95,
   "id": "b889a75c",
   "metadata": {},
   "outputs": [
    {
     "data": {
      "text/plain": [
       "array([[ 1.63934983,  0.0459605 , -0.0261245 ,  0.00321205, -0.06767942,\n",
       "        -0.30290357, -0.42420011, -0.18143898, -0.09434972, -0.01867476,\n",
       "         0.0686994 ,  0.81113375,  0.33331708, -0.10462563, -0.00624084,\n",
       "        -0.06078399, -0.08681649, -0.02332186, -0.02277641, -0.0056287 ,\n",
       "         1.71480559, -0.27406902, -0.17504291, -0.0287319 , -0.1212665 ,\n",
       "        -0.92726523, -1.15560135, -0.34641382, -0.29539982, -0.09081681]])"
      ]
     },
     "execution_count": 95,
     "metadata": {},
     "output_type": "execute_result"
    }
   ],
   "source": [
    "var.coef_"
   ]
  },
  {
   "cell_type": "code",
   "execution_count": 126,
   "id": "5a8c18c2",
   "metadata": {},
   "outputs": [],
   "source": [
    "y_ac = var.predict(data.data)"
   ]
  },
  {
   "cell_type": "code",
   "execution_count": 127,
   "id": "54892c3b",
   "metadata": {},
   "outputs": [
    {
     "data": {
      "text/plain": [
       "38.0"
      ]
     },
     "execution_count": 127,
     "metadata": {},
     "output_type": "execute_result"
    }
   ],
   "source": [
    "(np.absolute(y_ac-y_out)).sum()"
   ]
  },
  {
   "cell_type": "code",
   "execution_count": 129,
   "id": "d0cf3030",
   "metadata": {},
   "outputs": [
    {
     "data": {
      "text/plain": [
       "0.9332161687170475"
      ]
     },
     "execution_count": 129,
     "metadata": {},
     "output_type": "execute_result"
    }
   ],
   "source": [
    "(569-38)/569"
   ]
  },
  {
   "cell_type": "code",
   "execution_count": null,
   "id": "a4d22d34",
   "metadata": {},
   "outputs": [],
   "source": []
  }
 ],
 "metadata": {
  "kernelspec": {
   "display_name": "Python 3 (ipykernel)",
   "language": "python",
   "name": "python3"
  },
  "language_info": {
   "codemirror_mode": {
    "name": "ipython",
    "version": 3
   },
   "file_extension": ".py",
   "mimetype": "text/x-python",
   "name": "python",
   "nbconvert_exporter": "python",
   "pygments_lexer": "ipython3",
   "version": "3.11.4"
  }
 },
 "nbformat": 4,
 "nbformat_minor": 5
}
