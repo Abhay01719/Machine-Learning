{
 "cells": [
  {
   "cell_type": "code",
   "execution_count": 1,
   "id": "e3ca16ff",
   "metadata": {},
   "outputs": [],
   "source": [
    "from sklearn import datasets\n",
    "import pandas as pd\n",
    "import numpy as np"
   ]
  },
  {
   "cell_type": "code",
   "execution_count": 2,
   "id": "9cffc357",
   "metadata": {},
   "outputs": [],
   "source": [
    "house = datasets.fetch_california_housing()"
   ]
  },
  {
   "cell_type": "code",
   "execution_count": 3,
   "id": "3521d7bc",
   "metadata": {},
   "outputs": [],
   "source": [
    "p = np.ones((20640,1))"
   ]
  },
  {
   "cell_type": "code",
   "execution_count": 7,
   "id": "8aa0e7b0",
   "metadata": {},
   "outputs": [],
   "source": [
    "feature = np.append(np.array(house.data), p, axis=1)"
   ]
  },
  {
   "cell_type": "code",
   "execution_count": 8,
   "id": "7888946c",
   "metadata": {},
   "outputs": [],
   "source": [
    "label = np.array(house.target)"
   ]
  },
  {
   "cell_type": "code",
   "execution_count": 9,
   "id": "79bd8351",
   "metadata": {},
   "outputs": [],
   "source": [
    "feature = feature[:5000,:]\n",
    "label = label[:5000]"
   ]
  },
  {
   "cell_type": "code",
   "execution_count": null,
   "id": "513406fd",
   "metadata": {},
   "outputs": [],
   "source": []
  },
  {
   "cell_type": "code",
   "execution_count": 10,
   "id": "f79696bb",
   "metadata": {},
   "outputs": [
    {
     "data": {
      "text/plain": [
       "((5000, 9), (5000,))"
      ]
     },
     "execution_count": 10,
     "metadata": {},
     "output_type": "execute_result"
    }
   ],
   "source": [
    "feature.shape, label.shape"
   ]
  },
  {
   "cell_type": "code",
   "execution_count": 11,
   "id": "384ba385",
   "metadata": {},
   "outputs": [
    {
     "data": {
      "text/plain": [
       "(5000, 9)"
      ]
     },
     "execution_count": 11,
     "metadata": {},
     "output_type": "execute_result"
    }
   ],
   "source": [
    "feature[0:].shape"
   ]
  },
  {
   "cell_type": "code",
   "execution_count": 12,
   "id": "3248a27a",
   "metadata": {},
   "outputs": [],
   "source": [
    "def derivative(x,y,m,j):\n",
    "    temp = 0\n",
    "    for i in range(len(m)):\n",
    "        temp += x[:,i]*m[i]\n",
    "    var = -2*(((y-temp)*x[:,j]).mean())\n",
    "    return var\n",
    "        \n",
    "        \n",
    "    "
   ]
  },
  {
   "cell_type": "code",
   "execution_count": 13,
   "id": "ce3185a4",
   "metadata": {},
   "outputs": [],
   "source": [
    "def cost(x,y,m):\n",
    "    temp = 0\n",
    "    for i in range(len(m)):\n",
    "        temp += m[i]*x[:,i]\n",
    "    var = ((y-temp)**2).mean()\n",
    "    return var"
   ]
  },
  {
   "cell_type": "code",
   "execution_count": 14,
   "id": "6f6792b4",
   "metadata": {},
   "outputs": [],
   "source": [
    "def run(x,y):\n",
    "    coeff = [0.000000]*(x.shape[1])\n",
    "    alpha = 0.0000003\n",
    "    iterations = 100\n",
    "    for i in range(iterations):\n",
    "        for j in range(x.shape[1]):\n",
    "            coeff[j] -= alpha*derivative(x,y,coeff,j)\n",
    "        print(cost(x,y,coeff))\n",
    "    return coeff"
   ]
  },
  {
   "cell_type": "code",
   "execution_count": 15,
   "id": "2340326f",
   "metadata": {},
   "outputs": [
    {
     "name": "stdout",
     "output_type": "stream",
     "text": [
      "2.8903495929238074\n",
      "2.343147566602278\n",
      "2.1462329407063736\n",
      "2.0618588517259324\n",
      "2.0307297252577223\n",
      "2.012712901008489\n",
      "2.0037663916300787\n",
      "1.9957102952537094\n",
      "1.989550710714943\n",
      "1.9831892781427944\n",
      "1.9773487055703816\n",
      "1.9713810919229047\n",
      "1.9656031400440268\n",
      "1.9597925733910109\n",
      "1.9540735021387883\n",
      "1.9483658440364409\n",
      "1.9427164114157727\n",
      "1.9370956800449308\n",
      "1.9315209741967228\n",
      "1.925981220287498\n",
      "1.920482692665854\n",
      "1.9150211215010227\n",
      "1.9095986687753763\n",
      "1.9042135848203265\n",
      "1.8988665063159214\n",
      "1.893556619907343\n",
      "1.8882839984868756\n",
      "1.88304817819018\n",
      "1.8778490250162998\n",
      "1.8726862069856651\n",
      "1.8675595155942706\n",
      "1.862468670012089\n",
      "1.8574134363140624\n",
      "1.8523935548430148\n",
      "1.8474087844288698\n",
      "1.842458875437484\n",
      "1.8375435861654987\n",
      "1.8326626728357291\n",
      "1.8278158956711064\n",
      "1.823003015176224\n",
      "1.8182237943830093\n",
      "1.8134779974641198\n",
      "1.8087653905586827\n",
      "1.804085741250756\n",
      "1.7994388188684665\n",
      "1.7948243942834534\n",
      "1.7902422400147755\n",
      "1.7856921301475122\n",
      "1.7811738403643524\n",
      "1.7766871479084951\n",
      "1.77223183158851\n",
      "1.767807671757763\n",
      "1.7634144503094609\n",
      "1.7590519506623032\n",
      "1.754719957751975\n",
      "1.750418258019206\n",
      "1.7461466394000391\n",
      "1.7419048913148727\n",
      "1.737692804658367\n",
      "1.7335101717889436\n",
      "1.729356786518648\n",
      "1.7252324441029057\n",
      "1.7211369412304605\n",
      "1.7170700760133142\n",
      "1.7130316479767804\n",
      "1.7090214580495784\n",
      "1.705039308554017\n",
      "1.701085003196235\n",
      "1.697158347056514\n",
      "1.6932591465796607\n",
      "1.6893872095654514\n",
      "1.685542345159151\n",
      "1.681724363842089\n",
      "1.6779330774223111\n",
      "1.6741682990252884\n",
      "1.6704298430846967\n",
      "1.6667175253332578\n",
      "1.6630311627936452\n",
      "1.6593705737694544\n",
      "1.655735577836236\n",
      "1.6521259958325911\n",
      "1.6485416498513306\n",
      "1.6449823632306928\n",
      "1.641447960545628\n",
      "1.6379382675991372\n",
      "1.6344531114136787\n",
      "1.63099232022263\n",
      "1.6275557234618099\n",
      "1.6241431517610632\n",
      "1.6207544369358993\n",
      "1.6173894119791945\n",
      "1.6140479110529473\n",
      "1.6107297694800975\n",
      "1.6074348237363956\n",
      "1.604162911442335\n",
      "1.600913871355137\n",
      "1.5976875433607944\n",
      "1.5944837684661681\n",
      "1.591302388791142\n",
      "1.5881432475608304\n"
     ]
    },
    {
     "data": {
      "text/plain": [
       "[0.00017550928219244843,\n",
       " 0.0011118690166231216,\n",
       " 0.00019479692412981622,\n",
       " 3.329102815948144e-05,\n",
       " 0.0006836334746843976,\n",
       " 4.2721086943431e-05,\n",
       " 0.0009930633730835191,\n",
       " -0.0033286625124107263,\n",
       " 2.740779813331195e-05]"
      ]
     },
     "execution_count": 15,
     "metadata": {},
     "output_type": "execute_result"
    }
   ],
   "source": [
    "run(feature,label)"
   ]
  },
  {
   "cell_type": "code",
   "execution_count": null,
   "id": "094b4949",
   "metadata": {},
   "outputs": [],
   "source": []
  }
 ],
 "metadata": {
  "kernelspec": {
   "display_name": "Python 3 (ipykernel)",
   "language": "python",
   "name": "python3"
  },
  "language_info": {
   "codemirror_mode": {
    "name": "ipython",
    "version": 3
   },
   "file_extension": ".py",
   "mimetype": "text/x-python",
   "name": "python",
   "nbconvert_exporter": "python",
   "pygments_lexer": "ipython3",
   "version": "3.11.4"
  }
 },
 "nbformat": 4,
 "nbformat_minor": 5
}
